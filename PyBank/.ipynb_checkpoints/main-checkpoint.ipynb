{
 "cells": [
  {
   "cell_type": "code",
   "execution_count": 41,
   "id": "b86ba4d0-42a8-4454-891f-a64aea219e65",
   "metadata": {},
   "outputs": [],
   "source": [
    "from pathlib import Path\n",
    "import csv"
   ]
  },
  {
   "cell_type": "code",
   "execution_count": 58,
   "id": "7949c4d8-9bf1-4008-954c-f8c8f5dc5e40",
   "metadata": {},
   "outputs": [],
   "source": [
    "csv_path = Path('Resources/budget_data.csv')"
   ]
  },
  {
   "cell_type": "code",
   "execution_count": 62,
   "id": "28d663e7-1fd0-47b4-bccf-40800c97776f",
   "metadata": {
    "tags": []
   },
   "outputs": [
    {
     "name": "stdout",
     "output_type": "stream",
     "text": [
      "Financial Analysis\n",
      "-----------------------------------\n",
      "Total Months: 86\n",
      "Total: $38382578\n",
      "Average Change: $446309.05\n",
      "Greatest Increase in Profits: Feb-2012 ($1170593)\n",
      "Greatest Decrease in Profits: Sep-2013 ($-1196225)\n"
     ]
    }
   ],
   "source": [
    "month_count = 0\n",
    "total_net = 0\n",
    "maximum_month =''\n",
    "maximum = 0\n",
    "minimum_month = ''\n",
    "minimum = 0\n",
    "\n",
    "budget_dict = {}\n",
    "\n",
    "with open(csv_path,'r') as file:\n",
    "    csvreader = csv.reader(file, delimiter=',')\n",
    "    next(csvreader)                    \n",
    "    for row in csvreader: \n",
    "        month_count += 1\n",
    "        pnl = int(row[1])\n",
    "        month = row[0]\n",
    "        total_net += pnl\n",
    "        \n",
    "        budget_dict[month] = {\"Profit/Loss\":pnl}\n",
    "\n",
    "        if pnl > maximum:\n",
    "            maximum = pnl\n",
    "            maximum_month = month\n",
    "        elif pnl < minimum:\n",
    "            minimum = pnl\n",
    "            minimum_month = month\n",
    "\n",
    "        average = round(total_net/month_count,2)\n",
    "\n",
    "print(f'Financial Analysis')\n",
    "print('-----------------------------------')\n",
    "print(f'Total Months: {month_count}')\n",
    "print(f'Total: ${total_net}')\n",
    "print(f'Average Change: ${average}')\n",
    "print(f'Greatest Increase in Profits: {maximum_month} (${maximum})')\n",
    "print(f'Greatest Decrease in Profits: {minimum_month} (${minimum})')"
   ]
  },
  {
   "cell_type": "code",
   "execution_count": 50,
   "id": "106fd219-ddb1-46ec-b10b-3bc570628f52",
   "metadata": {},
   "outputs": [
    {
     "ename": "TypeError",
     "evalue": "'_csv.reader' object is not subscriptable",
     "output_type": "error",
     "traceback": [
      "\u001b[1;31m---------------------------------------------------------------------------\u001b[0m",
      "\u001b[1;31mTypeError\u001b[0m                                 Traceback (most recent call last)",
      "\u001b[1;32m~\\AppData\\Local\\Temp\\ipykernel_19936\\1161750490.py\u001b[0m in \u001b[0;36m<module>\u001b[1;34m\u001b[0m\n\u001b[0;32m      1\u001b[0m \u001b[0mmonth_count\u001b[0m \u001b[1;33m+=\u001b[0m \u001b[1;36m1\u001b[0m\u001b[1;33m\u001b[0m\u001b[1;33m\u001b[0m\u001b[0m\n\u001b[1;32m----> 2\u001b[1;33m \u001b[0mprofit_loss\u001b[0m \u001b[1;33m=\u001b[0m \u001b[0mint\u001b[0m\u001b[1;33m(\u001b[0m\u001b[0mcsvreader\u001b[0m\u001b[1;33m[\u001b[0m\u001b[1;36m1\u001b[0m\u001b[1;33m]\u001b[0m\u001b[1;33m)\u001b[0m\u001b[1;33m\u001b[0m\u001b[1;33m\u001b[0m\u001b[0m\n\u001b[0m\u001b[0;32m      3\u001b[0m \u001b[0mtotal_net\u001b[0m \u001b[1;33m+=\u001b[0m \u001b[0mprofit_loss\u001b[0m\u001b[1;33m\u001b[0m\u001b[1;33m\u001b[0m\u001b[0m\n\u001b[0;32m      4\u001b[0m \u001b[0mmonth\u001b[0m \u001b[1;33m=\u001b[0m \u001b[0mrow\u001b[0m\u001b[1;33m[\u001b[0m\u001b[1;36m0\u001b[0m\u001b[1;33m]\u001b[0m\u001b[1;33m\u001b[0m\u001b[1;33m\u001b[0m\u001b[0m\n\u001b[0;32m      5\u001b[0m \u001b[1;33m\u001b[0m\u001b[0m\n",
      "\u001b[1;31mTypeError\u001b[0m: '_csv.reader' object is not subscriptable"
     ]
    }
   ],
   "source": [
    "        \n",
    "        profit_loss = int(csvreader[1])\n",
    "        total_net += profit_loss\n",
    "        month = row[0]\n",
    "        \n"
   ]
  },
  {
   "cell_type": "code",
   "execution_count": null,
   "id": "500b64e3-532f-4fc4-903d-3267be900436",
   "metadata": {},
   "outputs": [],
   "source": []
  }
 ],
 "metadata": {
  "kernelspec": {
   "display_name": "Python 3 (ipykernel)",
   "language": "python",
   "name": "python3"
  },
  "language_info": {
   "codemirror_mode": {
    "name": "ipython",
    "version": 3
   },
   "file_extension": ".py",
   "mimetype": "text/x-python",
   "name": "python",
   "nbconvert_exporter": "python",
   "pygments_lexer": "ipython3",
   "version": "3.7.13"
  }
 },
 "nbformat": 4,
 "nbformat_minor": 5
}
